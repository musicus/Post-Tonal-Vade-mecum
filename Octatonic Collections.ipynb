{
 "cells": [
  {
   "cell_type": "markdown",
   "id": "latest-genealogy",
   "metadata": {},
   "source": [
    "# Octatonic Collections\n",
    "## Included Collections\n",
    "\n",
    "- OCT<sub>0,1</sub> (**P**itch **C**lasses [**PCs**] C, D#, F#, A) in 1-2 ordering (Half/Whole Diminished Scale)\n",
    "- OCT<sub>1,2</sub> (PCs C#, E, G, Bb) in 1-2 ordering (Half/Whole Diminished Scale)\n",
    "- OCT<sub>2,3</sub> (PCs D, F, G#, B)  in 1-2 ordering (Half/Whole Diminished Scale)\n",
    "- OCT<sub>0,1</sub> (PCs C#, E, G, Bb) in 2-1 ordering (Whole/Half Diminished Scale)\n",
    "- OCT<sub>1,2</sub> (PCs D, F, Ab, B)  in 2-1 ordering (Whole/Half Diminished Scale)\n",
    "- OCT<sub>2,3</sub> (PCs Eb, F#, A, C)  in 2-1 ordering (Whole/Half Diminished Scale)"
   ]
  },
  {
   "cell_type": "code",
   "execution_count": 33,
   "id": "ideal-steal",
   "metadata": {},
   "outputs": [],
   "source": [
    "import music21"
   ]
  },
  {
   "cell_type": "code",
   "execution_count": 38,
   "id": "consistent-shanghai",
   "metadata": {},
   "outputs": [],
   "source": [
    "# Finding a time signature based upon a pitch class collection's length\n",
    "# ----------------------------------------------------------------------\n",
    "\n",
    "\n",
    "def find_time_signature(scale):\n",
    "    \"\"\"\n",
    "    Finds the best fitting time signature of a given scale in a music21 \n",
    "    stream.\n",
    "    \"\"\"\n",
    "    scale_stream = scale.flat.notes\n",
    "    m = music21.stream.Measure()\n",
    "    [m.insert(i.offset, i) for i in scale_stream]\n",
    "\n",
    "    return music21.meter.bestTimeSignature(m)\n",
    "\n",
    "\n",
    "# Octatonic Collections\n",
    "# ---------------------\n",
    "\n",
    "\n",
    "def get_octatonic_collection(pc=\"C4\", ordering=\"2-1\"):\n",
    "    \"\"\"\n",
    "    Creating an octatonic collection with music21.scale, \n",
    "    and specifying scale ordering. The default pitch \n",
    "    center is C4, and the default ordering is in 2-1, \n",
    "    like the Whole Half Diminished scale.\n",
    "    \"\"\"\n",
    "\n",
    "    if(ordering == \"2-1\"):\n",
    "        order = 2\n",
    "    else: \n",
    "        order = 1\n",
    "        \n",
    "    octatonic = music21.scale.OctatonicScale(pc, order)\n",
    "    octatonic_collection = music21.stream.Stream()\n",
    "    [octatonic_collection.append(music21.note.Note(p)) for p in octatonic.pitches]\n",
    "    \n",
    "    # creating a time signature based on the length of the collection\n",
    "    octatonic_collection.insert(0, find_time_signature(octatonic_collection))\n",
    "    \n",
    "    print(music21.pitch.Pitch(pc).name + \" Octatonic collection in \" + ordering + \" ordering.\")\n",
    "    octatonic_collection.show()\n"
   ]
  },
  {
   "cell_type": "code",
   "execution_count": 39,
   "id": "continued-certificate",
   "metadata": {},
   "outputs": [
    {
     "name": "stdout",
     "output_type": "stream",
     "text": [
      "C Octatonic collection in 2-1 ordering.\n"
     ]
    },
    {
     "data": {
      "image/png": "[encoded data removed]",
      "text/plain": [
       "<IPython.core.display.Image object>"
      ]
     },
     "metadata": {
      "image/png": {
       "height": 49,
       "width": 674
      }
     },
     "output_type": "display_data"
    }
   ],
   "source": [
    "get_octatonic_collection(\"C4\", \"2-1\")"
   ]
  },
  {
   "cell_type": "code",
   "execution_count": null,
   "id": "polar-examination",
   "metadata": {},
   "outputs": [],
   "source": []
  }
 ],
 "metadata": {
  "kernelspec": {
   "display_name": "Python 3",
   "language": "python",
   "name": "python3"
  },
  "language_info": {
   "codemirror_mode": {
    "name": "ipython",
    "version": 3
   },
   "file_extension": ".py",
   "mimetype": "text/x-python",
   "name": "python",
   "nbconvert_exporter": "python",
   "pygments_lexer": "ipython3",
   "version": "3.9.2"
  }
 },
 "nbformat": 4,
 "nbformat_minor": 5
}
