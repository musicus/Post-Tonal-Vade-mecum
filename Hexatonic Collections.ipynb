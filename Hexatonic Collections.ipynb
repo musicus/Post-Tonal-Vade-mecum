{
 "cells": [
  {
   "cell_type": "markdown",
   "id": "lined-usage",
   "metadata": {},
   "source": [
    "# Hexatonic Collections\n",
    "\n",
    "## Included Collections\n",
    "\n",
    "- HEX<sub>0,1</sub> (<strong>P</strong>itch <strong>C</strong>lass C) in 1-3 ordering\n",
    "- HEX<sub>1,2</sub> (<strong>PC</strong> C#) in 1-3 ordering\n",
    "- HEX<sub>2,3</sub> (PC D) in 1-3 ordering\n",
    "- HEX<sub>3,4</sub> (PC Eb) in 1-3 ordering\n",
    "- HEX<sub>0,1</sub> (PC A) in 3-1 ordering (\"Augmented Scale\")\n",
    "- HEX<sub>1,2</sub> (PC Bb) in 3-1 ordering (\"Augmented Scale\")\n",
    "- HEX<sub>2,3</sub> (PC B) in 3-1 ordering (\"Augmented Scale\")\n",
    "- HEX<sub>3,4</sub> (PC C) in 3-1 ordering (\"Augmented Scale\")\n",
    "\n",
    "## Remaining Collections\n",
    "\n",
    "- Prometheus Scale\n",
    "- Blues Scale\n",
    "- Tritone Scale\n",
    "\n",
    "## Hexatonic Collections with their own Notebook\n",
    "\n",
    "- Wholetone Scale"
   ]
  },
  {
   "cell_type": "code",
   "execution_count": 1,
   "id": "handy-swaziland",
   "metadata": {},
   "outputs": [],
   "source": [
    "import music21"
   ]
  },
  {
   "cell_type": "code",
   "execution_count": 8,
   "id": "ordered-railway",
   "metadata": {},
   "outputs": [
    {
     "name": "stdout",
     "output_type": "stream",
     "text": [
      "C Hexatonic collection in 3-1 ordering.\n"
     ]
    },
    {
     "data": {
      "image/png": "[encoded data removed]",
      "text/plain": [
       "<IPython.core.display.Image object>"
      ]
     },
     "metadata": {
      "image/png": {
       "height": 49,
       "width": 674
      }
     },
     "output_type": "display_data"
    },
    {
     "data": {
      "text/html": [
       "\n",
       "                <div id='midiPlayerDiv2561'></div>\n",
       "                <link rel=\"stylesheet\" href=\"//cuthbertLab.github.io/music21j/css/m21.css\"\n",
       "                    type=\"text/css\" />\n",
       "                <script>\n",
       "                require.config({\n",
       "                    paths: {'music21': '//cuthbertLab.github.io/music21j/src/music21'}\n",
       "                });\n",
       "                require(['music21'], function() {\n",
       "                               mp = new music21.miditools.MidiPlayer();\n",
       "                               mp.addPlayer('#midiPlayerDiv2561');\n",
       "                               mp.base64Load('data:audio/midi;base64,TVRoZAAAAAYAAQACBABNVHJrAAAAFAD/UQMHoSAA/1gEBwIYCIgA/y8ATVRyawAAAE0A/wMAAOAAQIgAkDxaiACAPAAAkD9aiACAPwAAkEBaiACAQAAAkENaiACAQwAAkERaiACARAAAkEdaiACARwAAkEhaiACASACIAP8vAA==');\n",
       "                        });\n",
       "                </script>"
      ],
      "text/plain": [
       "<IPython.core.display.HTML object>"
      ]
     },
     "metadata": {},
     "output_type": "display_data"
    }
   ],
   "source": [
    "# Finding a time signature based upon a pitch class collection's length\n",
    "# ----------------------------------------------------------------------\n",
    "\n",
    "\n",
    "def find_time_signature(scale):\n",
    "    \"\"\"\n",
    "    Finds the best fitting time signature of a given scale in a music21 \n",
    "    stream.\n",
    "    \"\"\"\n",
    "    scale_stream = scale.flat.notes\n",
    "    m = music21.stream.Measure()\n",
    "    [m.insert(i.offset, i) for i in scale_stream]\n",
    "\n",
    "    return music21.meter.bestTimeSignature(m)\n",
    "\n",
    "# Hexatonic Collections\n",
    "# ----------------------------------------------------------------------\n",
    "# Since there is no precooked hexatonic collection à la Straus in\n",
    "# music21, we have to create a new scale network to create a hexatonic\n",
    "# collection. HEX3,4 (starting in pitch class C) in 3-1 ordering is also\n",
    "# known as the Augmented scale.\n",
    "\n",
    "\n",
    "def get_hexatonic_collection(pc=\"C4\", ordering=\"1-3\"):\n",
    "    \"\"\"\n",
    "    Builds a hexatonic collection based on a pitch center and either 1-3 \n",
    "    or 3-1 ordering. The default pitch class for the pitch center in C4, \n",
    "    while the default ordering is 3-1.\n",
    "    \"\"\"\n",
    "    # container for custom scale based on a pitch sequence model\n",
    "    new_scale = music21.scale.AbstractScale()\n",
    "\n",
    "    # deciding what ordering the new scale will have: 1-3 (default)\n",
    "    # or 3-1\n",
    "    if(ordering == '3-1'):\n",
    "        new_scale.buildNetworkFromPitches(\n",
    "            [\"C#4\", \"E4\", \"F4\", \"G#4\", \"A4\", \"C5\"])\n",
    "    else:\n",
    "        new_scale.buildNetworkFromPitches(\n",
    "            [\"C4\", \"C#4\", \"E4\", \"F4\", \"G#4\", \"A4\"])\n",
    "\n",
    "    # creating a hexatonic collection based on a given pitch center\n",
    "    hex_col = new_scale._net.realizePitch(pc)\n",
    "\n",
    "    # opening a stream to hold a hexatonic collection\n",
    "    hexatonic_collection = music21.stream.Stream()\n",
    "\n",
    "    # filling the stream with pitch class\n",
    "    [hexatonic_collection.append(music21.note.Note(p)) for p in hex_col]\n",
    "\n",
    "    # creating a time signature based on the length of the scale\n",
    "    hexatonic_collection.insert(0,\n",
    "                                find_time_signature(hexatonic_collection))\n",
    "\n",
    "    # pretty print label\n",
    "    print(music21.note.Note(pc).name +\n",
    "          \" Hexatonic collection in \" + ordering + \" ordering.\")\n",
    "\n",
    "    # showing the hexatonic collection on a staff\n",
    "    hexatonic_collection.show()\n",
    "\n",
    "    # listening to the hexatonic collection\n",
    "    # hexatonic_collection.show('midi')\n",
    "\n",
    "\n",
    "# showing a hexatonic collection based on pitch center and ordering\n",
    "get_hexatonic_collection('C4', '3-1')\n"
   ]
  }
 ],
 "metadata": {
  "kernelspec": {
   "display_name": "Python 3",
   "language": "python",
   "name": "python3"
  },
  "language_info": {
   "codemirror_mode": {
    "name": "ipython",
    "version": 3
   },
   "file_extension": ".py",
   "mimetype": "text/x-python",
   "name": "python",
   "nbconvert_exporter": "python",
   "pygments_lexer": "ipython3",
   "version": "3.9.2"
  }
 },
 "nbformat": 4,
 "nbformat_minor": 5
}
