{
 "cells": [
  {
   "cell_type": "markdown",
   "id": "thousand-market",
   "metadata": {},
   "source": [
    "# Hexatonic Collections\n",
    "\n",
    "## Included Collections\n",
    "\n",
    "- HEX<sub>0,1</sub> (<strong>P</strong>itch <strong>C</strong>lasses C, E, or G#) in 1-3 ordering\n",
    "- HEX<sub>1,2</sub> (<strong>PCs</strong> C#, F, A) in 1-3 ordering\n",
    "- HEX<sub>2,3</sub> (PCs D, F# Bb) in 1-3 ordering\n",
    "- HEX<sub>3,4</sub> (PCs Eb, G, B) in 1-3 ordering\n",
    "- HEX<sub>0,1</sub> (PCs C#, F, A) in 3-1 ordering (\"Augmented Scale\")\n",
    "- HEX<sub>1,2</sub> (PCs D, F#, Bb) in 3-1 ordering (\"Augmented Scale\")\n",
    "- HEX<sub>2,3</sub> (PCs Eb, G, B) in 3-1 ordering (\"Augmented Scale\")\n",
    "- HEX<sub>3,4</sub> (PCs E, Ab C) in 3-1 ordering (\"Augmented Scale\")\n",
    "\n",
    "## Remaining Collections\n",
    "\n",
    "- Prometheus Scale\n",
    "- Blues Scale\n",
    "- Tritone Scale\n",
    "\n",
    "## Hexatonic Collections with their own Notebook\n",
    "\n",
    "- Wholetone Scale"
   ]
  },
  {
   "cell_type": "markdown",
   "id": "elder-drain",
   "metadata": {},
   "source": [
    "## Importing Necessary Libraries"
   ]
  },
  {
   "cell_type": "code",
   "execution_count": 1,
   "id": "balanced-branch",
   "metadata": {},
   "outputs": [],
   "source": [
    "import music21, copy\n",
    "from IPython.display import Markdown, display"
   ]
  },
  {
   "cell_type": "markdown",
   "id": "available-tennessee",
   "metadata": {},
   "source": [
    "## Functions"
   ]
  },
  {
   "cell_type": "markdown",
   "id": "agreed-blanket",
   "metadata": {},
   "source": [
    "### Printing to Markdown"
   ]
  },
  {
   "cell_type": "code",
   "execution_count": 2,
   "id": "living-madrid",
   "metadata": {},
   "outputs": [],
   "source": [
    "# Printing to Markdown\n",
    "# ------------------------\n",
    "\n",
    "def print_md(string):\n",
    "    \"\"\"\n",
    "    Pretty print function to print to markdown.\n",
    "    \"\"\"\n",
    "    display(Markdown(string))\n"
   ]
  },
  {
   "cell_type": "markdown",
   "id": "tracked-concord",
   "metadata": {},
   "source": [
    "### Time Signature Fitting of Collection"
   ]
  },
  {
   "cell_type": "code",
   "execution_count": 3,
   "id": "classified-facing",
   "metadata": {},
   "outputs": [],
   "source": [
    "# Finding a time signature based upon a pitch class collection's length\n",
    "# ----------------------------------------------------------------------\n",
    "\n",
    "def find_time_signature(scale):\n",
    "    \"\"\"\n",
    "    Finds the best fitting time signature of a given scale in a music21 \n",
    "    stream.\n",
    "    \"\"\"\n",
    "    \n",
    "    scale_stream = scale.flat.notes\n",
    "    m = music21.stream.Measure()\n",
    "    [m.insert(i.offset, i) for i in scale_stream]\n",
    "\n",
    "    return music21.meter.bestTimeSignature(m)\n"
   ]
  },
  {
   "cell_type": "markdown",
   "id": "hundred-cotton",
   "metadata": {},
   "source": [
    "### Analyzing a Hexatonic Collection from a music21 Stream"
   ]
  },
  {
   "cell_type": "code",
   "execution_count": 4,
   "id": "reduced-burner",
   "metadata": {},
   "outputs": [],
   "source": [
    "# Finding the mode and ordering of a hexatonic collection\n",
    "# -------------------------------------------------------\n",
    "\n",
    "def analyze_hexatonic_collection(collection):\n",
    "    \"\"\"\n",
    "    Finding the hexatonic mode and ordering for chosen hexatonic collection \n",
    "    through analysis, meaning that a lookup table is not being used.\n",
    "    If you were to use it in a project consulting a lookup table would \n",
    "    benefit computing time.\n",
    "    \"\"\"\n",
    "    \n",
    "    # convert the hexatonic collection into a note name sequence\n",
    "    mode_notes = [n.name for n in collection]\n",
    "    \n",
    "    # converting notes in the hexatonic collection to pitch classes\n",
    "    pitch_classes = [music21.pitch.Pitch(n).pitchClass for n in mode_notes]\n",
    "    \n",
    "    # interval between the first and second note \n",
    "    order = music21.interval.notesToChromatic(collection[0],collection[1])\n",
    "    \n",
    "    # the range of possible hexatonic collections\n",
    "    the_range = 5\n",
    "    \n",
    "    if(order.directed == 1):\n",
    "        \n",
    "        # ordering of hexatonic collection with interval from first to second note\n",
    "        ordering = \"1-3\"\n",
    "        \n",
    "        # checking for discrete pitch classes in hexatonic collection\n",
    "        for x in range(the_range):\n",
    "            if(all(n in pitch_classes for n in [x, x + 1])):\n",
    "                hex_mode = x, x+1\n",
    "                break\n",
    "            \n",
    "    else:\n",
    "        \n",
    "        # ordering of hexatonic collection with interval from first to second note\n",
    "        ordering = \"3-1\"\n",
    "        \n",
    "        # checking for discrete pitch classes in hexatonic collection\n",
    "        for x in range(the_range):\n",
    "            if(all(n in pitch_classes for n in [x, x + 3])):\n",
    "                hex_mode = (x + 3) % 4, ((x + 3) % 4) + 1\n",
    "                break\n",
    "            \n",
    "    return hex_mode, mode_notes[0], pitch_classes[0], ordering  \n",
    "    "
   ]
  },
  {
   "cell_type": "markdown",
   "id": "designed-crowd",
   "metadata": {},
   "source": [
    "### Creating a Hexatonic Collection Using music21's AbstractScale.buildNetworkFromPitches()"
   ]
  },
  {
   "cell_type": "code",
   "execution_count": 9,
   "id": "general-edmonton",
   "metadata": {},
   "outputs": [],
   "source": [
    "# Hexatonic Collections\n",
    "# ----------------------------------------------------------------------\n",
    "# Since there is no pre-cooked hexatonic collection à la Straus in\n",
    "# music21, we have to create a new scale network to create a hexatonic\n",
    "# collection. HEX3,4 (starting on pitch class C) in 3-1 ordering is also\n",
    "# known as the \"Augmented scale.\"\n",
    "\n",
    "def get_hexatonic_collection(pc=\"C4\", ordering=\"1-3\"):\n",
    "    \"\"\"\n",
    "    Builds a hexatonic collection based on a pitch center and either 1-3 \n",
    "    or 3-1 ordering. The default pitch class for the pitch center in C4, \n",
    "    while the default ordering is 3-1.\n",
    "    \"\"\"\n",
    "    \n",
    "    # container for custom scale based on a pitch sequence model\n",
    "    new_scale = music21.scale.AbstractScale()\n",
    "\n",
    "    # deciding what ordering the new scale will have: 1-3 (default)\n",
    "    # or 3-1\n",
    "    if(ordering == '3-1'):\n",
    "        new_scale.buildNetworkFromPitches(\n",
    "            [\"C#4\", \"E4\", \"F4\", \"G#4\", \"A4\", \"C5\"])\n",
    "    else:\n",
    "        new_scale.buildNetworkFromPitches(\n",
    "            [\"C4\", \"C#4\", \"E4\", \"F4\", \"G#4\", \"A4\"])\n",
    "\n",
    "    # creating a hexatonic collection based on a given pitch center\n",
    "    hex_col = new_scale._net.realizePitch(pc)\n",
    "\n",
    "    # opening a stream to hold a hexatonic collection\n",
    "    hexatonic_collection = music21.stream.Stream()\n",
    "\n",
    "    # filling the stream with pitch class\n",
    "    [hexatonic_collection.append(music21.note.Note(p)) for p in hex_col]\n",
    "\n",
    "    # pitch centet\n",
    "    pitch_center = music21.note.Note(pc).name \n",
    "    \n",
    "    # return the collection\n",
    "    return hexatonic_collection, pitch_center, ordering\n"
   ]
  },
  {
   "cell_type": "markdown",
   "id": "iraqi-transmission",
   "metadata": {},
   "source": [
    "## Example Creating a Hexatonic Collection"
   ]
  },
  {
   "cell_type": "code",
   "execution_count": 10,
   "id": "legislative-journey",
   "metadata": {},
   "outputs": [
    {
     "data": {
      "text/markdown": [
       "### F# Hexatonic Collection in 3-1 Ordering"
      ],
      "text/plain": [
       "<IPython.core.display.Markdown object>"
      ]
     },
     "metadata": {},
     "output_type": "display_data"
    },
    {
     "data": {
      "image/png": "[encoded data removed]",
      "text/plain": [
       "<IPython.core.display.Image object>"
      ]
     },
     "metadata": {
      "image/png": {
       "height": 49,
       "width": 674
      }
     },
     "output_type": "display_data"
    }
   ],
   "source": [
    "# Creating a hexatonic collection, providing the pitch center, and ordering\n",
    "hexatonic_collection_1 = get_hexatonic_collection('f#4', '3-1')\n",
    "\n",
    "# Creating a (backup) copy of the music21 stream\n",
    "hexatonic_collection_2 = copy.deepcopy(hexatonic_collection_1[0])\n",
    "\n",
    "# Finding a time signature that can hold the collection\n",
    "hexatonic_collection_1[0].insert(0, find_time_signature(hexatonic_collection_1[0]))\n",
    "\n",
    "# Print a header\n",
    "print_md(\"### \" + hexatonic_collection_1[1] + \" Hexatonic Collection in \" + \n",
    "         hexatonic_collection_1[2] + \" Ordering\")\n",
    "\n",
    "# Printing the collection in Common Music Notation (CMN) format\n",
    "hexatonic_collection_1[0].show()"
   ]
  },
  {
   "cell_type": "markdown",
   "id": "subjective-brown",
   "metadata": {},
   "source": [
    "## Example Analyzing a Hexatonic Collection"
   ]
  },
  {
   "cell_type": "code",
   "execution_count": 11,
   "id": "daily-characterization",
   "metadata": {},
   "outputs": [
    {
     "data": {
      "text/plain": [
       "((1, 2), 'F#', 6, '3-1')"
      ]
     },
     "execution_count": 11,
     "metadata": {},
     "output_type": "execute_result"
    }
   ],
   "source": [
    "# analyzing mode, pitch center, and ordering of a given hexatonic collection\n",
    "analysis_results = analyze_hexatonic_collection(hexatonic_collection_2)\n",
    "analysis_results"
   ]
  },
  {
   "cell_type": "markdown",
   "id": "reserved-planning",
   "metadata": {},
   "source": [
    "### Formatting Analysis Results"
   ]
  },
  {
   "cell_type": "code",
   "execution_count": 12,
   "id": "solid-advancement",
   "metadata": {},
   "outputs": [
    {
     "data": {
      "text/markdown": [
       "<pre>Mode: \t\tHEX<sub>1,2</sub><br />Pitch Center: F# (6)<br />Ordering: \t3-1</pre>"
      ],
      "text/plain": [
       "<IPython.core.display.Markdown object>"
      ]
     },
     "metadata": {},
     "output_type": "display_data"
    }
   ],
   "source": [
    "# pretty printing results\n",
    "print_md(\"<pre>Mode: \\t\\tHEX<sub>{},\".format(analysis_results[0][0]) + \n",
    "         \"{}</sub><br />\".format(analysis_results[0][1]) + \n",
    "         \"Pitch Center: {} \".format(analysis_results[1]) + \n",
    "         \"({})<br />\".format(analysis_results[2]) +\n",
    "         \"Ordering: \\t{}\".format(analysis_results[3]) + \"</pre>\")\n"
   ]
  },
  {
   "cell_type": "code",
   "execution_count": null,
   "id": "foreign-bundle",
   "metadata": {},
   "outputs": [],
   "source": []
  }
 ],
 "metadata": {
  "kernelspec": {
   "display_name": "Python 3",
   "language": "python",
   "name": "python3"
  },
  "language_info": {
   "codemirror_mode": {
    "name": "ipython",
    "version": 3
   },
   "file_extension": ".py",
   "mimetype": "text/x-python",
   "name": "python",
   "nbconvert_exporter": "python",
   "pygments_lexer": "ipython3",
   "version": "3.9.2"
  }
 },
 "nbformat": 4,
 "nbformat_minor": 5
}
