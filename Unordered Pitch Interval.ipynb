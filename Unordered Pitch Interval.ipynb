{
 "cells": [
  {
   "cell_type": "markdown",
   "id": "postal-florida",
   "metadata": {},
   "source": [
    "# Unordered Pitch Interval (UPI)"
   ]
  },
  {
   "cell_type": "code",
   "execution_count": 1,
   "id": "engaged-enlargement",
   "metadata": {},
   "outputs": [],
   "source": [
    "import music21"
   ]
  },
  {
   "cell_type": "code",
   "execution_count": 2,
   "id": "engaged-martin",
   "metadata": {},
   "outputs": [],
   "source": [
    "def get_upi(x, y):\n",
    "    \"\"\"\n",
    "    Get the UPI from a music21 built-in function\n",
    "    \"\"\"\n",
    "    \n",
    "    x = music21.pitch.Pitch(x)\n",
    "    y = music21.pitch.Pitch(y)\n",
    "    \n",
    "    opi = music21.interval.notesToChromatic(x, y)\n",
    "    \n",
    "    return opi.undirected"
   ]
  },
  {
   "cell_type": "code",
   "execution_count": 3,
   "id": "absent-velvet",
   "metadata": {},
   "outputs": [
    {
     "data": {
      "text/plain": [
       "19"
      ]
     },
     "execution_count": 3,
     "metadata": {},
     "output_type": "execute_result"
    }
   ],
   "source": [
    "get_upi('C4','G5')"
   ]
  }
 ],
 "metadata": {
  "kernelspec": {
   "display_name": "Python 3",
   "language": "python",
   "name": "python3"
  },
  "language_info": {
   "codemirror_mode": {
    "name": "ipython",
    "version": 3
   },
   "file_extension": ".py",
   "mimetype": "text/x-python",
   "name": "python",
   "nbconvert_exporter": "python",
   "pygments_lexer": "ipython3",
   "version": "3.9.2"
  }
 },
 "nbformat": 4,
 "nbformat_minor": 5
}
