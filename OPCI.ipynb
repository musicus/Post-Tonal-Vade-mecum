{
 "cells": [
  {
   "cell_type": "code",
   "execution_count": 1,
   "id": "hairy-wells",
   "metadata": {},
   "outputs": [],
   "source": [
    "import music21"
   ]
  },
  {
   "cell_type": "code",
   "execution_count": 12,
   "id": "virtual-mongolia",
   "metadata": {},
   "outputs": [
    {
     "data": {
      "text/plain": [
       "7"
      ]
     },
     "execution_count": 12,
     "metadata": {},
     "output_type": "execute_result"
    }
   ],
   "source": [
    "def get_opci(x, y):\n",
    "    \"\"\"\n",
    "    Get Straus' OPCI\n",
    "    'y - x mod12'\n",
    "    \n",
    "    \"\"\"\n",
    "    x = music21.pitch.Pitch(x).pitchClass\n",
    "    y = music21.pitch.Pitch(y).pitchClass\n",
    "    \n",
    "    opci = (y - x) % 12\n",
    "    \n",
    "    return opci\n",
    "\n",
    "get_opci('C4','G5')"
   ]
  }
 ],
 "metadata": {
  "kernelspec": {
   "display_name": "Python 3",
   "language": "python",
   "name": "python3"
  },
  "language_info": {
   "codemirror_mode": {
    "name": "ipython",
    "version": 3
   },
   "file_extension": ".py",
   "mimetype": "text/x-python",
   "name": "python",
   "nbconvert_exporter": "python",
   "pygments_lexer": "ipython3",
   "version": "3.9.2"
  }
 },
 "nbformat": 4,
 "nbformat_minor": 5
}
