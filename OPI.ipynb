{
 "cells": [
  {
   "cell_type": "code",
   "execution_count": 1,
   "id": "absent-pavilion",
   "metadata": {},
   "outputs": [],
   "source": [
    "import music21"
   ]
  },
  {
   "cell_type": "code",
   "execution_count": 4,
   "id": "martial-fever",
   "metadata": {},
   "outputs": [
    {
     "data": {
      "text/plain": [
       "19"
      ]
     },
     "execution_count": 4,
     "metadata": {},
     "output_type": "execute_result"
    }
   ],
   "source": [
    "def get_opi(x, y):\n",
    "    \"\"\"\n",
    "    Get the OPI from a music21 built-in function\n",
    "    \"\"\"\n",
    "\n",
    "    x = music21.note.Note(x)\n",
    "    y = music21.note.Note(y)\n",
    "\n",
    "    opi = music21.interval.notesToChromatic(x, y)\n",
    "    \n",
    "    return opi.semitones\n",
    "\n",
    "get_opi('C4','G5')"
   ]
  },
  {
   "cell_type": "code",
   "execution_count": null,
   "id": "drawn-circle",
   "metadata": {},
   "outputs": [],
   "source": []
  }
 ],
 "metadata": {
  "kernelspec": {
   "display_name": "Python 3",
   "language": "python",
   "name": "python3"
  },
  "language_info": {
   "codemirror_mode": {
    "name": "ipython",
    "version": 3
   },
   "file_extension": ".py",
   "mimetype": "text/x-python",
   "name": "python",
   "nbconvert_exporter": "python",
   "pygments_lexer": "ipython3",
   "version": "3.9.2"
  }
 },
 "nbformat": 4,
 "nbformat_minor": 5
}
