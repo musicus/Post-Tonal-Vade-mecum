{
 "cells": [
  {
   "cell_type": "markdown",
   "id": "saved-attribute",
   "metadata": {},
   "source": [
    "# Using PIs - OPIs, UPIs, OPICs, and UPCIs"
   ]
  },
  {
   "cell_type": "markdown",
   "id": "atlantic-stevens",
   "metadata": {},
   "source": [
    "## Importing Required Libraries"
   ]
  },
  {
   "cell_type": "code",
   "execution_count": 1,
   "id": "together-garlic",
   "metadata": {},
   "outputs": [],
   "source": [
    "import music21, pandas"
   ]
  },
  {
   "cell_type": "markdown",
   "id": "rapid-consultation",
   "metadata": {},
   "source": [
    "## Defining Functions"
   ]
  },
  {
   "cell_type": "markdown",
   "id": "sustained-quantum",
   "metadata": {},
   "source": [
    "### Ordered Pitch Interval (OPI)"
   ]
  },
  {
   "cell_type": "code",
   "execution_count": 2,
   "id": "competent-portal",
   "metadata": {},
   "outputs": [],
   "source": [
    "# OPI\n",
    "def get_opi(x, y):\n",
    "    \"\"\"\n",
    "    Get the OPI from a music21 built-in function\n",
    "    \"\"\"\n",
    "\n",
    "    x = music21.note.Note(x)\n",
    "    y = music21.note.Note(y)\n",
    "\n",
    "    opi = music21.interval.notesToChromatic(x, y)\n",
    "    \n",
    "    return opi.semitones"
   ]
  },
  {
   "cell_type": "markdown",
   "id": "vocal-strip",
   "metadata": {},
   "source": [
    "### Unordered Pitch Interval (UPI)"
   ]
  },
  {
   "cell_type": "code",
   "execution_count": 3,
   "id": "restricted-philip",
   "metadata": {},
   "outputs": [],
   "source": [
    "# UPI\n",
    "def get_upi(x, y):\n",
    "    \"\"\"\n",
    "    Get the UPI from a music21 built-in function\n",
    "    \"\"\"\n",
    "    \n",
    "    x = music21.note.Note(x)\n",
    "    y = music21.note.Note(y)\n",
    "    \n",
    "    opi = music21.interval.notesToChromatic(x, y)\n",
    "    \n",
    "    return opi.undirected"
   ]
  },
  {
   "cell_type": "markdown",
   "id": "powerful-highland",
   "metadata": {},
   "source": [
    "### Ordered Pitch Class Interval"
   ]
  },
  {
   "cell_type": "code",
   "execution_count": 4,
   "id": "legitimate-dutch",
   "metadata": {},
   "outputs": [],
   "source": [
    "# OPCI\n",
    "def get_opci(x, y):\n",
    "    \"\"\"\n",
    "    Use Straus' OPCI 'y - x mod12'\n",
    "    \n",
    "    \"\"\"\n",
    "    opci = (y - x) % 12\n",
    "    \n",
    "    return opci"
   ]
  },
  {
   "cell_type": "markdown",
   "id": "suspended-genealogy",
   "metadata": {},
   "source": [
    "### Unordered Pitch Class Interval"
   ]
  },
  {
   "cell_type": "code",
   "execution_count": 5,
   "id": "otherwise-person",
   "metadata": {},
   "outputs": [],
   "source": [
    "# UPCI\n",
    "def get_upci(x, y):\n",
    "    \"\"\"\n",
    "    Use Straus' UPCI, a.k.a. 'interval class'.\n",
    "    'x - y mod12, whichever one is smaller'\n",
    "    \n",
    "    \"\"\"\n",
    "    z1 = (x - y) % 12 \n",
    "    z2 = (y - x) % 12\n",
    "    \n",
    "    if(z1 < z2):\n",
    "        upci = z1\n",
    "    \n",
    "    else:\n",
    "        upci = z2\n",
    "\n",
    "    return upci"
   ]
  },
  {
   "cell_type": "markdown",
   "id": "isolated-democrat",
   "metadata": {},
   "source": [
    "### Take All Intervals and Place into a pandas Dataframe"
   ]
  },
  {
   "cell_type": "code",
   "execution_count": 9,
   "id": "altered-edmonton",
   "metadata": {},
   "outputs": [],
   "source": [
    "# Collect all interval types and place them into pandas dataframe.\n",
    "def get_all_intervals(pitch_sequence):\n",
    "    \n",
    "    \"\"\"\n",
    "    Find all interval types (according to Straus) in a pitch sequence, and create a dataFrame.\n",
    "    \n",
    "    \"\"\"\n",
    "    df = pandas.DataFrame(columns=['PCs','opi','upi','opci','upci'])\n",
    "    \n",
    "    for i in range(len(pitch_sequence)):\n",
    "        \n",
    "        x_pitch = pitch_sequence[i].pitch.pitchClass\n",
    "        \n",
    "        if((i + 1) < len(pitch_sequence)):\n",
    "            y_pitch = pitch_sequence[i + 1].pitch.pitchClass\n",
    "        else:\n",
    "            break\n",
    "        \n",
    "        data = [\n",
    "                str(x_pitch) + ' to ' + str(y_pitch), \n",
    "                get_opi(x_pitch, y_pitch),\n",
    "                get_upi(x_pitch, y_pitch), \n",
    "                get_opci(x_pitch, y_pitch), \n",
    "                get_upci(x_pitch, y_pitch)\n",
    "        ]\n",
    "        \n",
    "        df.loc[i] = data\n",
    "        \n",
    "    return(df.T)"
   ]
  },
  {
   "cell_type": "markdown",
   "id": "injured-hammer",
   "metadata": {},
   "source": [
    "## Building a music21 Stream from a Pitch Sequence"
   ]
  },
  {
   "cell_type": "code",
   "execution_count": 10,
   "id": "recognized-world",
   "metadata": {},
   "outputs": [
    {
     "data": {
      "image/png": "[encoded data removed]",
      "text/plain": [
       "<IPython.core.display.Image object>"
      ]
     },
     "metadata": {
      "image/png": {
       "height": 49,
       "width": 674
      }
     },
     "output_type": "display_data"
    },
    {
     "data": {
      "text/html": [
       "\n",
       "                <div id='midiPlayerDiv677'></div>\n",
       "                <link rel=\"stylesheet\" href=\"//cuthbertLab.github.io/music21j/css/m21.css\"\n",
       "                    type=\"text/css\" />\n",
       "                <script>\n",
       "                require.config({\n",
       "                    paths: {'music21': '//cuthbertLab.github.io/music21j/src/music21'}\n",
       "                });\n",
       "                require(['music21'], function() {\n",
       "                               mp = new music21.miditools.MidiPlayer();\n",
       "                               mp.addPlayer('#midiPlayerDiv677');\n",
       "                               mp.base64Load('data:audio/midi;base64,TVRoZAAAAAYAAQACBABNVHJrAAAAFAD/UQMHoSAA/1gEBAIYCIgA/y8ATVRyawAAAEQA/wMAAOAAQIgAkDxakACAPAAAkD5akACAPgAAkElakACASQAAkEBakACAQAAAkERakACARAAAkENakACAQwCIAP8vAA==');\n",
       "                        });\n",
       "                </script>"
      ],
      "text/plain": [
       "<IPython.core.display.HTML object>"
      ]
     },
     "metadata": {},
     "output_type": "display_data"
    }
   ],
   "source": [
    "# Decide on a Pitch Sequence\n",
    "# --------------------------\n",
    "\n",
    "# Can be written with pitch classes in integer notation\n",
    "# sequence_of_pitches = [0,2,1,4,8,7]\n",
    "\n",
    "# Can be written with traditional note names and pitch space specifiers\n",
    "sequence_of_pitches = ['C4','D4','C#5','E4','G#4','G4']\n",
    "\n",
    "# Creates music21 Stream to show and hear the pitches\n",
    "pitch_sequence = music21.stream.Stream()\n",
    "[pitch_sequence.append(music21.note.Note(x, type='half')) for x in sequence_of_pitches]\n",
    "\n",
    "# Showing a score\n",
    "pitch_sequence.show()\n",
    "\n",
    "# Listening...\n",
    "pitch_sequence.show('midi') # does not work on GitHub"
   ]
  },
  {
   "cell_type": "markdown",
   "id": "listed-democrat",
   "metadata": {},
   "source": [
    "## Viewing the Dataframe of Intervals from the Pitch Sequence Stream"
   ]
  },
  {
   "cell_type": "code",
   "execution_count": 8,
   "id": "expired-finder",
   "metadata": {},
   "outputs": [
    {
     "data": {
      "text/html": [
       "<div>\n",
       "<style scoped>\n",
       "    .dataframe tbody tr th:only-of-type {\n",
       "        vertical-align: middle;\n",
       "    }\n",
       "\n",
       "    .dataframe tbody tr th {\n",
       "        vertical-align: top;\n",
       "    }\n",
       "\n",
       "    .dataframe thead th {\n",
       "        text-align: right;\n",
       "    }\n",
       "</style>\n",
       "<table border=\"1\" class=\"dataframe\">\n",
       "  <thead>\n",
       "    <tr style=\"text-align: right;\">\n",
       "      <th></th>\n",
       "      <th>0</th>\n",
       "      <th>1</th>\n",
       "      <th>2</th>\n",
       "      <th>3</th>\n",
       "      <th>4</th>\n",
       "    </tr>\n",
       "  </thead>\n",
       "  <tbody>\n",
       "    <tr>\n",
       "      <th>PCs</th>\n",
       "      <td>0 to 2</td>\n",
       "      <td>2 to 1</td>\n",
       "      <td>1 to 4</td>\n",
       "      <td>4 to 8</td>\n",
       "      <td>8 to 7</td>\n",
       "    </tr>\n",
       "    <tr>\n",
       "      <th>opi</th>\n",
       "      <td>2</td>\n",
       "      <td>-1</td>\n",
       "      <td>3</td>\n",
       "      <td>4</td>\n",
       "      <td>-1</td>\n",
       "    </tr>\n",
       "    <tr>\n",
       "      <th>upi</th>\n",
       "      <td>2</td>\n",
       "      <td>1</td>\n",
       "      <td>3</td>\n",
       "      <td>4</td>\n",
       "      <td>1</td>\n",
       "    </tr>\n",
       "    <tr>\n",
       "      <th>opci</th>\n",
       "      <td>2</td>\n",
       "      <td>11</td>\n",
       "      <td>3</td>\n",
       "      <td>4</td>\n",
       "      <td>11</td>\n",
       "    </tr>\n",
       "    <tr>\n",
       "      <th>upci</th>\n",
       "      <td>2</td>\n",
       "      <td>1</td>\n",
       "      <td>3</td>\n",
       "      <td>4</td>\n",
       "      <td>1</td>\n",
       "    </tr>\n",
       "  </tbody>\n",
       "</table>\n",
       "</div>"
      ],
      "text/plain": [
       "           0       1       2       3       4\n",
       "PCs   0 to 2  2 to 1  1 to 4  4 to 8  8 to 7\n",
       "opi        2      -1       3       4      -1\n",
       "upi        2       1       3       4       1\n",
       "opci       2      11       3       4      11\n",
       "upci       2       1       3       4       1"
      ]
     },
     "execution_count": 8,
     "metadata": {},
     "output_type": "execute_result"
    }
   ],
   "source": [
    "# Get All Intervals in Pitch Sequence and Place into pandas dataframe\n",
    "# -------------------------------------------------------------------\n",
    "\n",
    "get_all_intervals(pitch_sequence)"
   ]
  }
 ],
 "metadata": {
  "kernelspec": {
   "display_name": "Python 3",
   "language": "python",
   "name": "python3"
  },
  "language_info": {
   "codemirror_mode": {
    "name": "ipython",
    "version": 3
   },
   "file_extension": ".py",
   "mimetype": "text/x-python",
   "name": "python",
   "nbconvert_exporter": "python",
   "pygments_lexer": "ipython3",
   "version": "3.9.2"
  }
 },
 "nbformat": 4,
 "nbformat_minor": 5
}
