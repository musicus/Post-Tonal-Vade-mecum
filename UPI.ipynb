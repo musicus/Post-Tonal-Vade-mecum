{
 "cells": [
  {
   "cell_type": "code",
   "execution_count": 2,
   "id": "guilty-suffering",
   "metadata": {},
   "outputs": [],
   "source": [
    "import music21"
   ]
  },
  {
   "cell_type": "code",
   "execution_count": 4,
   "id": "thrown-canada",
   "metadata": {},
   "outputs": [
    {
     "data": {
      "text/plain": [
       "8"
      ]
     },
     "execution_count": 4,
     "metadata": {},
     "output_type": "execute_result"
    }
   ],
   "source": [
    "def get_upi(x, y):\n",
    "    \"\"\"\n",
    "    Get the UPI from a music21 built-in function\n",
    "    \"\"\"\n",
    "    \n",
    "    x = music21.note.Note(x)\n",
    "    y = music21.note.Note(y)\n",
    "    \n",
    "    opi = music21.interval.notesToChromatic(x, y)\n",
    "    \n",
    "    return opi.undirected\n",
    "\n",
    "get_upi('C4','E3')"
   ]
  }
 ],
 "metadata": {
  "kernelspec": {
   "display_name": "Python 3",
   "language": "python",
   "name": "python3"
  },
  "language_info": {
   "codemirror_mode": {
    "name": "ipython",
    "version": 3
   },
   "file_extension": ".py",
   "mimetype": "text/x-python",
   "name": "python",
   "nbconvert_exporter": "python",
   "pygments_lexer": "ipython3",
   "version": "3.9.2"
  }
 },
 "nbformat": 4,
 "nbformat_minor": 5
}
