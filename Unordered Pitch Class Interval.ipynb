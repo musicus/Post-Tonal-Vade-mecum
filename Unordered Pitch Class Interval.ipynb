{
 "cells": [
  {
   "cell_type": "markdown",
   "id": "marked-medline",
   "metadata": {},
   "source": [
    "# Unordered Pitch Class Interval"
   ]
  },
  {
   "cell_type": "code",
   "execution_count": 1,
   "id": "abandoned-literature",
   "metadata": {},
   "outputs": [],
   "source": [
    "import music21"
   ]
  },
  {
   "cell_type": "code",
   "execution_count": 2,
   "id": "structured-exhaust",
   "metadata": {},
   "outputs": [],
   "source": [
    "def get_upci(x, y):\n",
    "    \"\"\"\n",
    "    Get Straus' UPCI, a.k.a. 'interval class'.\n",
    "    'x - y mod12, whichever one is smaller'\n",
    "    \"\"\"\n",
    "    \n",
    "    x = music21.pitch.Pitch(x).pitchClass\n",
    "    y = music21.pitch.Pitch(y).pitchClass\n",
    "    \n",
    "    z1 = (x - y) % 12 \n",
    "    z2 = (y - x) % 12\n",
    "    \n",
    "    if(z1 < z2):\n",
    "        upci = z1\n",
    "    \n",
    "    else:\n",
    "        upci = z2\n",
    "\n",
    "    return upci"
   ]
  },
  {
   "cell_type": "code",
   "execution_count": 3,
   "id": "concerned-recognition",
   "metadata": {},
   "outputs": [
    {
     "data": {
      "text/plain": [
       "5"
      ]
     },
     "execution_count": 3,
     "metadata": {},
     "output_type": "execute_result"
    }
   ],
   "source": [
    "get_upci('C4','G5')"
   ]
  }
 ],
 "metadata": {
  "kernelspec": {
   "display_name": "Python 3",
   "language": "python",
   "name": "python3"
  },
  "language_info": {
   "codemirror_mode": {
    "name": "ipython",
    "version": 3
   },
   "file_extension": ".py",
   "mimetype": "text/x-python",
   "name": "python",
   "nbconvert_exporter": "python",
   "pygments_lexer": "ipython3",
   "version": "3.9.2"
  }
 },
 "nbformat": 4,
 "nbformat_minor": 5
}
