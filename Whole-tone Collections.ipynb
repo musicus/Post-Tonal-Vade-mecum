{
 "cells": [
  {
   "cell_type": "markdown",
   "id": "thousand-pepper",
   "metadata": {},
   "source": [
    "# Whole-tone Collections\n",
    "\n",
    "There are two possible whole-tone collections, (1) that features only even numbered pitch classes, and (2) the other which only features odd numbered pitch classes. The former goes by the name of WT<sub>0</sub>, while the latter is called WT<sub>1</sub>. Messiaen called the whole-tone scale the *first mode* of limited transposition, because only two transpositions are possible (WT<sub>0</sub> and WT<sub>1</sub>)."
   ]
  },
  {
   "cell_type": "markdown",
   "id": "polished-thanks",
   "metadata": {},
   "source": [
    "## Required Libraries"
   ]
  },
  {
   "cell_type": "code",
   "execution_count": 1,
   "id": "closed-balance",
   "metadata": {},
   "outputs": [],
   "source": [
    "import music21\n",
    "from IPython.display import Markdown, display"
   ]
  },
  {
   "cell_type": "markdown",
   "id": "bored-works",
   "metadata": {},
   "source": [
    "## Functions"
   ]
  },
  {
   "cell_type": "markdown",
   "id": "successful-multimedia",
   "metadata": {},
   "source": [
    "### Printing to Markdown"
   ]
  },
  {
   "cell_type": "code",
   "execution_count": 2,
   "id": "infinite-threshold",
   "metadata": {},
   "outputs": [],
   "source": [
    "# Printing to Markdown\n",
    "# ------------------------\n",
    "\n",
    "def print_md(string):\n",
    "    \"\"\"\n",
    "    Pretty print function to print to markdown.\n",
    "    \"\"\"\n",
    "    display(Markdown(string))\n",
    "    "
   ]
  },
  {
   "cell_type": "markdown",
   "id": "infrared-opposition",
   "metadata": {},
   "source": [
    "### Creating Whole-tone Collections"
   ]
  },
  {
   "cell_type": "code",
   "execution_count": 3,
   "id": "crazy-dragon",
   "metadata": {},
   "outputs": [],
   "source": [
    "# Whole-tone Collections\n",
    "# ---------------------\n",
    "\n",
    "def get_wholetone_collection(pc):\n",
    "    \"\"\"\n",
    "    Music21 has a wholetone collection built in.\n",
    "    \"\"\"\n",
    "    wholetone = music21.scale.WholeToneScale(pc)\n",
    "    print(pc + \" Wholetone Collection\")\n",
    "    wholetone_scale = music21.stream.Stream()\n",
    "    [wholetone_scale.append(music21.note.Note(p)) for p in wholetone.pitches]\n",
    "\n",
    "    return wholetone_scale\n"
   ]
  },
  {
   "cell_type": "markdown",
   "id": "electoral-advantage",
   "metadata": {},
   "source": [
    "### Analyzing Whole-tone Collections"
   ]
  },
  {
   "cell_type": "code",
   "execution_count": 4,
   "id": "interracial-population",
   "metadata": {},
   "outputs": [],
   "source": [
    "# Analyze a Whole-tone Collection\n",
    "# ------------------------------\n",
    "\n",
    "def analyze_wholetone_collection(wholetone_scale):\n",
    "    \"\"\"\n",
    "    Analyzes properties of the the wholetone collection.\n",
    "    \"\"\"\n",
    "    pitch_center = wholetone_scale[0].pitch.pitchClass\n",
    "    \n",
    "    if(pitch_center % 2 == 0):\n",
    "        wholetone_transposition = 0\n",
    "    else:\n",
    "        wholetone_transposition = 1\n",
    "    \n",
    "    return wholetone_transposition, pitch_center\n"
   ]
  },
  {
   "cell_type": "markdown",
   "id": "regulated-lexington",
   "metadata": {},
   "source": [
    "## Representations of a Whole-tone Collection\n",
    "\n",
    "### Visual"
   ]
  },
  {
   "cell_type": "code",
   "execution_count": 5,
   "id": "joined-preserve",
   "metadata": {},
   "outputs": [
    {
     "name": "stdout",
     "output_type": "stream",
     "text": [
      "D Wholetone Collection\n"
     ]
    },
    {
     "data": {
      "image/png": "[encoded data removed]",
      "text/plain": [
       "<IPython.core.display.Image object>"
      ]
     },
     "metadata": {
      "image/png": {
       "height": 49,
       "width": 674
      }
     },
     "output_type": "display_data"
    }
   ],
   "source": [
    "# Accessing the Whole-tone Collection\n",
    "wholetone_scale = get_wholetone_collection(\"D\")\n",
    "wholetone_scale.show()"
   ]
  },
  {
   "cell_type": "markdown",
   "id": "absolute-camel",
   "metadata": {},
   "source": [
    "### Aural"
   ]
  },
  {
   "cell_type": "code",
   "execution_count": 6,
   "id": "limiting-frank",
   "metadata": {},
   "outputs": [
    {
     "data": {
      "text/html": [
       "\n",
       "                <div id='midiPlayerDiv326'></div>\n",
       "                <link rel=\"stylesheet\" href=\"//cuthbertLab.github.io/music21j/css/m21.css\"\n",
       "                    type=\"text/css\" />\n",
       "                <script>\n",
       "                require.config({\n",
       "                    paths: {'music21': '//cuthbertLab.github.io/music21j/src/music21'}\n",
       "                });\n",
       "                require(['music21'], function() {\n",
       "                               mp = new music21.miditools.MidiPlayer();\n",
       "                               mp.addPlayer('#midiPlayerDiv326');\n",
       "                               mp.base64Load('data:audio/midi;base64,TVRoZAAAAAYAAQACBABNVHJrAAAAFAD/UQMHoSAA/1gEBAIYCIgA/y8ATVRyawAAAE0A/wMAAOAAQIgAkD5aiACAPgAAkEBaiACAQAAAkEJaiACAQgAAkERaiACARAAAkEZaiACARgAAkEhaiACASAAAkEpaiACASgCIAP8vAA==');\n",
       "                        });\n",
       "                </script>"
      ],
      "text/plain": [
       "<IPython.core.display.HTML object>"
      ]
     },
     "metadata": {},
     "output_type": "display_data"
    }
   ],
   "source": [
    "# Listening to the Whole-tone Scale\n",
    "wholetone_scale.show('midi')"
   ]
  },
  {
   "cell_type": "markdown",
   "id": "another-master",
   "metadata": {},
   "source": [
    "## Whole-tone Collection Analysis"
   ]
  },
  {
   "cell_type": "code",
   "execution_count": 7,
   "id": "common-assumption",
   "metadata": {},
   "outputs": [
    {
     "data": {
      "text/plain": [
       "(0, 2)"
      ]
     },
     "execution_count": 7,
     "metadata": {},
     "output_type": "execute_result"
    }
   ],
   "source": [
    "wholetone_analysis = analyze_wholetone_collection(wholetone_scale)\n",
    "wholetone_analysis"
   ]
  },
  {
   "cell_type": "markdown",
   "id": "proper-adams",
   "metadata": {},
   "source": [
    "The resulting tuple shows the transposition and pitch center of a whole-tone collection."
   ]
  },
  {
   "cell_type": "markdown",
   "id": "tracked-indian",
   "metadata": {},
   "source": [
    "### Formatting Analysis Results"
   ]
  },
  {
   "cell_type": "code",
   "execution_count": 8,
   "id": "valid-application",
   "metadata": {},
   "outputs": [
    {
     "data": {
      "text/markdown": [
       "*Transposition*: WT<sub>0</sub><br />*Pitch Center*: 2"
      ],
      "text/plain": [
       "<IPython.core.display.Markdown object>"
      ]
     },
     "metadata": {},
     "output_type": "display_data"
    }
   ],
   "source": [
    "# Pretty-printing the analysis results \n",
    "print_md(\"*Transposition*: WT<sub>{}</sub><br />\".format(wholetone_analysis[0]) +\n",
    "         \"*Pitch Center*: {}\".format(wholetone_analysis[1]))"
   ]
  }
 ],
 "metadata": {
  "kernelspec": {
   "display_name": "Python 3",
   "language": "python",
   "name": "python3"
  },
  "language_info": {
   "codemirror_mode": {
    "name": "ipython",
    "version": 3
   },
   "file_extension": ".py",
   "mimetype": "text/x-python",
   "name": "python",
   "nbconvert_exporter": "python",
   "pygments_lexer": "ipython3",
   "version": "3.9.2"
  }
 },
 "nbformat": 4,
 "nbformat_minor": 5
}
